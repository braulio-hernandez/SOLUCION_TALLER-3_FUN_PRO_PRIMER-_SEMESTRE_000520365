{
  "nbformat": 4,
  "nbformat_minor": 0,
  "metadata": {
    "colab": {
      "provenance": [],
      "authorship_tag": "ABX9TyOwz0PEh5hk8dyxT7OUFH0+",
      "include_colab_link": true
    },
    "kernelspec": {
      "name": "python3",
      "display_name": "Python 3"
    },
    "language_info": {
      "name": "python"
    }
  },
  "cells": [
    {
      "cell_type": "markdown",
      "metadata": {
        "id": "view-in-github",
        "colab_type": "text"
      },
      "source": [
        "<a href=\"https://colab.research.google.com/github/braulio-hernandez/SOLUCION_TALLER-3_FUN_PRO_PRIMER-_SEMESTRE_000520365/blob/main/TALLER_3_CONDICIONALES_.ipynb\" target=\"_parent\"><img src=\"https://colab.research.google.com/assets/colab-badge.svg\" alt=\"Open In Colab\"/></a>"
      ]
    },
    {
      "cell_type": "code",
      "execution_count": null,
      "metadata": {
        "id": "NO73WxoF6ADD"
      },
      "outputs": [],
      "source": [
        "# definir variables de entrada #\n"
      ]
    },
    {
      "cell_type": "code",
      "source": [
        "estrato = int(input( \"estrato 3 \"))\n",
        "lugar_residencia = input(\"¿vive en monteria ?( si ):\")\n",
        "edad = int(\"21\")\n",
        "promedio = float(\"4.5\")\n",
        "\n",
        "apoyo_transporte = 0\n",
        "apoyo_alimentacion = 0\n",
        "\n",
        "# calcular apoyo de transporte #\n",
        "\n",
        "if estrato == 1:\n",
        "if edad < 18:\n",
        "\n",
        "  apoyo_trannsporte = 65000\n",
        "else:\n",
        "  apoyo_transporte = 50000\n",
        "elif estrato == 2:\n",
        "if edad < 18:\n",
        "  apoyo_transporte = 45000\n",
        "else:\n",
        "  apoyo_trannsporte = 30000\n",
        "elif estrato == 3:\n",
        "if edad < 18:\n",
        "  apoyo_trasporte = 35000\n",
        "else:\n",
        "  apoyo_transporte =20000\n",
        "\n",
        "  # calcular apoyo de alimentacion #\n",
        "\n",
        "    cosoto_alimentacion = 20000 *20 # 20 dias habiles por mes \n",
        "if estrato == 1:\n",
        "if edad < 18:\n",
        "    apoyo_alimentacion = costo_alimentacion * 0.9\n",
        "else:\n",
        "    apoyo_alimentacion = costo_alimentacion * 0.7\n",
        "elif estrato == 2:\n",
        "\n",
        "if edad < 18:\n",
        "    apoyo_alimentacion = costo_alimentacion * 0.7\n",
        "else:\n",
        "    apoyo_alimentacion = costo_alimentacion * 0.5\n",
        "elif estrato == 3:\n",
        "if edad < 18:\n",
        "    apoyo_alimentacion = costo_alimentacion * 0.5\n",
        "else:\n",
        "    apoyo_alimentacion = costo_alimentacion * 0.3\n",
        "\n",
        "# calcular costo de trasporte # \n",
        "\n",
        "if lugar_residencia.upper()==\"si\":\n",
        "     costo_trasporte = 2800  2 20 # 20 dias habiles por mes \n",
        "else:\n",
        "     costo_trasporte = 3500 2 20 # 20 dias habiles por mes \n",
        "\n",
        "# calcular costos de matricula #\n",
        "\n",
        "if promedio < 4.8:\n",
        "   costo_matricula = 0\n",
        "elif promedio > 4.5:\n",
        "   costo_matricula = 6000000 * 0.3\n",
        "elif promedio > 4.0:\n",
        "   costo_matricula = 6000000 * 0.6\n",
        "else:\n",
        "   costo_matricula = 6000000 \n",
        "\n",
        "# calcular gasto total #\n",
        "\n",
        " gasto_total = costo_transporte + apoyo_trasporte + costo_alimentacion - apoyo_alimentacion + costo_matricula\n",
        " gasto_mensual = gasto_total / 4\n",
        "\n",
        "# mostrar resultados #\n",
        "\n",
        "print(f\"El gasto total mensual es de $¨{gasto_mensual:2f}\")\n",
        "\n",
        "\n",
        "\n",
        "\n",
        "\n",
        "\n",
        "\n",
        "\n",
        "\n",
        "\n",
        "\n"
      ],
      "metadata": {
        "colab": {
          "base_uri": "https://localhost:8080/",
          "height": 130
        },
        "id": "tJpmGtRm7W7C",
        "outputId": "0abbd5cd-9b41-4efc-a92c-25f214540732"
      },
      "execution_count": null,
      "outputs": [
        {
          "output_type": "error",
          "ename": "IndentationError",
          "evalue": "ignored",
          "traceback": [
            "\u001b[0;36m  File \u001b[0;32m\"<tokenize>\"\u001b[0;36m, line \u001b[0;32m68\u001b[0m\n\u001b[0;31m    gasto_total = costo_transporte + apoyo_trasporte + costo_alimentacion - apoyo_alimentacion + costo_matricula\u001b[0m\n\u001b[0m    ^\u001b[0m\n\u001b[0;31mIndentationError\u001b[0m\u001b[0;31m:\u001b[0m unindent does not match any outer indentation level\n"
          ]
        }
      ]
    }
  ]
}